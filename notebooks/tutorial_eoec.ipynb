{
 "cells": [
  {
   "cell_type": "markdown",
   "metadata": {},
   "source": [
    "# EEGDash example for eyes open vs. closed classification\n",
    "\n",
    "The code below provides an example of using the *EEGDash* library in combination with PyTorch to develop a deep learning model for analyzing EEG data, specifically for eyes open vs. closed classification in a single subject.\n",
    "\n",
    "1. **Data Retrieval Using EEGDash**: An instance of *EEGDashDataset* is created to search and retrieve an EEG dataset. At this step, only the metadata is transferred.\n",
    "\n",
    "2. **Data Preprocessing Using BrainDecode**: This process preprocesses EEG data using Braindecode by reannotating events, selecting specific channels, resampling, filtering, and extracting 2-second epochs, ensuring balanced eyes-open and eyes-closed data for analysis.\n",
    "\n",
    "3. **Creating train and testing sets**: The dataset is split into training (80%) and testing (20%) sets with balanced labels, converted into PyTorch tensors, and wrapped in DataLoader objects for efficient mini-batch training.\n",
    "\n",
    "4. **Model Definition**: The model is a shallow convolutional neural network (ShallowFBCSPNet) with 24 input channels (EEG channels), 2 output classes (eyes-open and eyes-closed).\n",
    "\n",
    "5. **Model Training and Evaluation Process**: This section trains the neural network, normalizes input data, computes cross-entropy loss, updates model parameters, and evaluates classication accuracy over six epochs.\n",
    "\n"
   ]
  },
  {
   "cell_type": "markdown",
   "metadata": {},
   "source": [
    "## Data Retrieval Using EEGDash\n",
    "\n",
    "First we find one resting state dataset. This dataset contains both eyes open and eyes closed data."
   ]
  },
  {
   "cell_type": "code",
   "execution_count": 1,
   "metadata": {},
   "outputs": [],
   "source": [
    "from eegdash import EEGDashDataset\n",
    "\n",
    "ds_eoec = EEGDashDataset(\n",
    "    {\"dataset\": \"ds005514\", \"task\": \"RestingState\", \"subject\": \"NDARDB033FW5\"}\n",
    ")"
   ]
  },
  {
   "cell_type": "markdown",
   "metadata": {},
   "source": [
    "## Data Preprocessing Using Braindecode\n",
    "\n",
    "[BrainDecode](https://braindecode.org/stable/install/install.html) is a specialized library for preprocessing EEG and MEG data. In this dataset, there are two key events in the continuous data: **instructed_toCloseEyes**, marking the start of a 40-second eyes-closed period, and **instructed_toOpenEyes**, indicating the start of a 20-second eyes-open period.\n",
    "\n",
    "For the eyes-closed event, we extract 14 seconds of data from 15 to 29 seconds after the event onset. Similarly, for the eyes-open event, we extract data from 5 to 19 seconds after the event onset. This ensures an equal amount of data for both conditions. The event extraction is handled by the custom function **hbn_ec_ec_reannotation**.\n",
    "\n",
    "Next, we apply four preprocessing steps in Braindecode:\n",
    "1.\t**Reannotation** of event markers using hbn_ec_ec_reannotation().\n",
    "2.\t**Selection** of 24 specific EEG channels from the original 128.\n",
    "3.\t**Resampling** the EEG data to a frequency of 128 Hz.\n",
    "4.\t**Filtering** the EEG signals to retain frequencies between 1 Hz and 55 Hz.\n",
    "\n",
    "When calling the **preprocess** function, the data is retrieved from the remote repository.\n",
    "\n",
    "Finally, we use **create_windows_from_events** to extract 2-second epochs from the data. These epochs serve as the dataset samples. At this stage, each sample is automatically labeled with the corresponding event type (eyes-open or eyes-closed). windows_ds is a PyTorch dataset, and when queried, it returns labels for eyes-open and eyes-closed (assigned as labels 0 and 1, corresponding to their respective event markers)."
   ]
  },
  {
   "cell_type": "code",
   "execution_count": 24,
   "metadata": {},
   "outputs": [
    {
     "name": "stdout",
     "output_type": "stream",
     "text": [
      "Used Annotations descriptions: ['boundary', 'break cnt', 'instructed_toCloseEyes', 'instructed_toOpenEyes', 'resting_start']\n",
      "{'boundary': 1, 'break cnt': 2, 'instructed_toCloseEyes': 3, 'instructed_toOpenEyes': 4, 'resting_start': 5}\n",
      "NOTE: pick_channels() is a legacy function. New code should use inst.pick(...).\n",
      "Filtering raw data in 1 contiguous segment\n",
      "Setting up band-pass filter from 1 - 55 Hz\n",
      "\n",
      "FIR filter parameters\n",
      "---------------------\n",
      "Designing a one-pass, zero-phase, non-causal bandpass filter:\n",
      "- Windowed time-domain design (firwin) method\n",
      "- Hamming window with 0.0194 passband ripple and 53 dB stopband attenuation\n",
      "- Lower passband edge: 1.00\n",
      "- Lower transition bandwidth: 1.00 Hz (-6 dB cutoff frequency: 0.50 Hz)\n",
      "- Upper passband edge: 55.00 Hz\n",
      "- Upper transition bandwidth: 9.00 Hz (-6 dB cutoff frequency: 59.50 Hz)\n",
      "- Filter length: 423 samples (3.305 s)\n",
      "\n",
      "Used Annotations descriptions: ['eyes_closed', 'eyes_open']\n"
     ]
    },
    {
     "name": "stderr",
     "output_type": "stream",
     "text": [
      "[Parallel(n_jobs=1)]: Done  17 tasks      | elapsed:    0.0s\n"
     ]
    }
   ],
   "source": [
    "from braindecode.preprocessing import (\n",
    "    preprocess,\n",
    "    Preprocessor,\n",
    "    create_windows_from_events,\n",
    ")\n",
    "import numpy as np\n",
    "import mne\n",
    "import warnings\n",
    "\n",
    "warnings.simplefilter(\"ignore\", category=RuntimeWarning)\n",
    "\n",
    "\n",
    "class hbn_ec_ec_reannotation(Preprocessor):\n",
    "    def __init__(self):\n",
    "        super().__init__(\n",
    "            fn=self.transform, apply_on_array=False\n",
    "        )  # Pass the transform method as the function\n",
    "\n",
    "    def transform(self, raw):  # Changed from 'apply' to 'transform'\n",
    "        # Create events array from annotations\n",
    "        events, event_id = mne.events_from_annotations(raw)\n",
    "\n",
    "        print(event_id)\n",
    "\n",
    "        # Create new events array for 2-second segments\n",
    "        new_events = []\n",
    "        sfreq = raw.info[\"sfreq\"]\n",
    "        for event in events[events[:, 2] == event_id[\"instructed_toCloseEyes\"]]:\n",
    "            # For each original event, create events every 2 seconds from 15s to 29s after\n",
    "            start_times = event[0] + np.arange(15, 29, 2) * sfreq\n",
    "            new_events.extend([[int(t), 0, 1] for t in start_times])\n",
    "\n",
    "        for event in events[events[:, 2] == event_id[\"instructed_toOpenEyes\"]]:\n",
    "            # For each original event, create events every 2 seconds from 5s to 19s after\n",
    "            start_times = event[0] + np.arange(5, 19, 2) * sfreq\n",
    "            new_events.extend([[int(t), 0, 2] for t in start_times])\n",
    "\n",
    "        # replace events in raw\n",
    "        new_events = np.array(new_events)\n",
    "        annot_from_events = mne.annotations_from_events(\n",
    "            events=new_events,\n",
    "            event_desc={1: \"eyes_closed\", 2: \"eyes_open\"},\n",
    "            sfreq=raw.info[\"sfreq\"],\n",
    "        )\n",
    "        raw.set_annotations(annot_from_events)\n",
    "        return raw\n",
    "\n",
    "\n",
    "# BrainDecode preprocessors\n",
    "preprocessors = [\n",
    "    hbn_ec_ec_reannotation(),\n",
    "    Preprocessor(\n",
    "        \"pick_channels\",\n",
    "        ch_names=[\n",
    "            \"E22\",\n",
    "            \"E9\",\n",
    "            \"E33\",\n",
    "            \"E24\",\n",
    "            \"E11\",\n",
    "            \"E124\",\n",
    "            \"E122\",\n",
    "            \"E29\",\n",
    "            \"E6\",\n",
    "            \"E111\",\n",
    "            \"E45\",\n",
    "            \"E36\",\n",
    "            \"E104\",\n",
    "            \"E108\",\n",
    "            \"E42\",\n",
    "            \"E55\",\n",
    "            \"E93\",\n",
    "            \"E58\",\n",
    "            \"E52\",\n",
    "            \"E62\",\n",
    "            \"E92\",\n",
    "            \"E96\",\n",
    "            \"E70\",\n",
    "            \"Cz\",\n",
    "        ],\n",
    "    ),\n",
    "    Preprocessor(\"resample\", sfreq=128),\n",
    "    Preprocessor(\"filter\", l_freq=1, h_freq=55),\n",
    "]\n",
    "preprocess(ds_eoec, preprocessors)\n",
    "\n",
    "# Extract 2-second segments\n",
    "windows_ds = create_windows_from_events(\n",
    "    ds_eoec,\n",
    "    trial_start_offset_samples=0,\n",
    "    trial_stop_offset_samples=256,\n",
    "    preload=True,\n",
    ")"
   ]
  },
  {
   "cell_type": "markdown",
   "metadata": {},
   "source": [
    "## Plotting a Single Channel for One Sample\n",
    "\n",
    "It’s always a good practice to verify that the data has been properly loaded and processed. Here, we plot a single channel from one sample to ensure the signal is present and looks as expected."
   ]
  },
  {
   "cell_type": "code",
   "execution_count": 25,
   "metadata": {},
   "outputs": [
    {
     "data": {
      "image/png": "[encoded data removed]",
      "text/plain": [
       "<Figure size 640x480 with 1 Axes>"
      ]
     },
     "metadata": {},
     "output_type": "display_data"
    }
   ],
   "source": [
    "import matplotlib.pyplot as plt\n",
    "\n",
    "plt.figure()\n",
    "plt.plot(windows_ds[2][0][0, :].transpose())  # first channel of first epoch\n",
    "plt.show()"
   ]
  },
  {
   "cell_type": "markdown",
   "metadata": {},
   "source": [
    "## Creating training and test sets\n",
    "\n",
    "The code below creates a training and test set. We first split the data into training and test sets using the **train_test_split** function from the **sklearn** library. We then create a **TensorDataset** for the training and test sets.\n",
    "\n",
    "1.\t**Set Random Seed** – The random seed is fixed using torch.manual_seed(random_state) to ensure reproducibility in dataset splitting and model training.\n",
    "2.\t**Extract Labels from the Dataset** – Labels (eye-open or eye-closed events) are extracted from windows_ds, stored as a NumPy array, and printed for verification.\n",
    "3.\t**Split Dataset into Train and Test Sets** – The dataset is split into training (80%) and testing (20%) subsets using train_test_split(), ensuring balanced stratification based on the extracted labels. Stratification means that we have as many eyes-open and eyes-closed samples in the training and testing sets.\n",
    "4.\t**Convert Data to PyTorch Tensors** – The selected training and testing samples are converted into FloatTensor for input features and LongTensor for labels, making them compatible with PyTorch models.\n",
    "5.\t**Create DataLoaders** – The datasets are wrapped in PyTorch DataLoader objects with a batch size of 10, enabling efficient mini-batch training and shuffling.\n"
   ]
  },
  {
   "cell_type": "code",
   "execution_count": 26,
   "metadata": {},
   "outputs": [
    {
     "name": "stdout",
     "output_type": "stream",
     "text": [
      "labels:  [1 1 1 1 1 1 1 0 0 0 0 0 0 0 1 1 1 1 1 1 1 0 0 0 0 0 0 0 1 1 1 1 1 1 1 0 0\n",
      " 0 0 0 0 0 1 1 1 1 1 1 1 0 0 0 0 0 0 0 1 1 1 1 1 1 1 0 0 0 0 0 0 0]\n",
      "Shape of data torch.Size([56, 24, 256]) number of samples - Train: 6, Test: 2\n",
      "EO/EC balance, train: 0.50, test: 0.50\n"
     ]
    }
   ],
   "source": [
    "import torch\n",
    "from sklearn.model_selection import train_test_split\n",
    "from torch.utils.data import DataLoader\n",
    "from torch.utils.data import TensorDataset\n",
    "\n",
    "# Set random seed for reproducibility\n",
    "random_state = 42\n",
    "torch.manual_seed(random_state)\n",
    "np.random.seed(random_state)\n",
    "\n",
    "# Extract labels from the dataset\n",
    "eo_ec = np.array([ds[1] for ds in windows_ds]).transpose()  # check labels\n",
    "print(\"labels: \", eo_ec)\n",
    "\n",
    "# Get balanced indices for male and female subjects\n",
    "train_indices, test_indices = train_test_split(\n",
    "    range(len(windows_ds)), test_size=0.2, stratify=eo_ec, random_state=random_state\n",
    ")\n",
    "\n",
    "# Convert the data to tensors\n",
    "X_train = torch.FloatTensor(\n",
    "    np.array([windows_ds[i][0] for i in train_indices])\n",
    ")  # Convert list of arrays to single tensor\n",
    "X_test = torch.FloatTensor(\n",
    "    np.array([windows_ds[i][0] for i in test_indices])\n",
    ")  # Convert list of arrays to single tensor\n",
    "y_train = torch.LongTensor(eo_ec[train_indices])  # Convert targets to tensor\n",
    "y_test = torch.LongTensor(eo_ec[test_indices])  # Convert targets to tensor\n",
    "dataset_train = TensorDataset(X_train, y_train)\n",
    "dataset_test = TensorDataset(X_test, y_test)\n",
    "\n",
    "# Create data loaders for training and testing (batch size 10)\n",
    "train_loader = DataLoader(dataset_train, batch_size=10, shuffle=True)\n",
    "test_loader = DataLoader(dataset_test, batch_size=10, shuffle=True)\n",
    "\n",
    "# Print shapes and sizes to verify split\n",
    "print(\n",
    "    f\"Shape of data {X_train.shape} number of samples - Train: {len(train_loader)}, Test: {len(test_loader)}\"\n",
    ")\n",
    "print(\n",
    "    f\"Eyes-Open/Eyes-Closed balance, train: {np.mean(eo_ec[train_indices]):.2f}, test: {np.mean(eo_ec[test_indices]):.2f}\"\n",
    ")"
   ]
  },
  {
   "cell_type": "markdown",
   "metadata": {},
   "source": [
    "# Check labels\n",
    "\n",
    "It is good practice to verify the labels and ensure the random seed is functioning correctly. If all labels are 0s (eyes closed) or 1s (eyes open), it could indicate an issue with data loading or stratification, requiring further investigation."
   ]
  },
  {
   "cell_type": "code",
   "execution_count": 27,
   "metadata": {},
   "outputs": [
    {
     "data": {
      "text/plain": [
       "tensor([0, 1, 1, 1, 1, 0, 1, 1, 0, 0])"
      ]
     },
     "execution_count": 27,
     "metadata": {},
     "output_type": "execute_result"
    }
   ],
   "source": [
    "# Visualize a batch of target labels\n",
    "dataiter = iter(train_loader)\n",
    "first_item, label = dataiter.__next__()\n",
    "label"
   ]
  },
  {
   "cell_type": "markdown",
   "metadata": {},
   "source": [
    "# Create model\n",
    "\n",
    "The model is a shallow convolutional neural network (ShallowFBCSPNet) with 24 input channels (EEG channels), 2 output classes (eyes-open and eyes-closed), and an input window size of 256 samples (2 seconds of EEG data). "
   ]
  },
  {
   "cell_type": "code",
   "execution_count": 33,
   "metadata": {},
   "outputs": [
    {
     "data": {
      "text/plain": [
       "==========================================================================================\n",
       "Layer (type:depth-idx)                   Output Shape              Param #\n",
       "==========================================================================================\n",
       "ShallowFBCSPNet                          [1, 2]                    --\n",
       "├─Ensure4d: 1-1                          [1, 24, 256, 1]           --\n",
       "├─Rearrange: 1-2                         [1, 1, 256, 24]           --\n",
       "├─CombinedConv: 1-3                      [1, 40, 232, 1]           39,440\n",
       "├─BatchNorm2d: 1-4                       [1, 40, 232, 1]           80\n",
       "├─Expression: 1-5                        [1, 40, 232, 1]           --\n",
       "├─AvgPool2d: 1-6                         [1, 40, 11, 1]            --\n",
       "├─Expression: 1-7                        [1, 40, 11, 1]            --\n",
       "├─Dropout: 1-8                           [1, 40, 11, 1]            --\n",
       "├─Sequential: 1-9                        [1, 2]                    --\n",
       "│    └─Conv2d: 2-1                       [1, 2, 1, 1]              882\n",
       "│    └─LogSoftmax: 2-2                   [1, 2, 1, 1]              --\n",
       "│    └─Expression: 2-3                   [1, 2]                    --\n",
       "==========================================================================================\n",
       "Total params: 40,402\n",
       "Trainable params: 40,402\n",
       "Non-trainable params: 0\n",
       "Total mult-adds (Units.MEGABYTES): 0.00\n",
       "==========================================================================================\n",
       "Input size (MB): 0.02\n",
       "Forward/backward pass size (MB): 0.07\n",
       "Params size (MB): 0.00\n",
       "Estimated Total Size (MB): 0.10\n",
       "=========================================================================================="
      ]
     },
     "execution_count": 33,
     "metadata": {},
     "output_type": "execute_result"
    }
   ],
   "source": [
    "import torch\n",
    "import numpy as np\n",
    "from torch.nn import functional as F\n",
    "from braindecode.models import ShallowFBCSPNet\n",
    "from torchinfo import summary\n",
    "\n",
    "torch.manual_seed(random_state)\n",
    "model = ShallowFBCSPNet(24, 2, n_times=256, final_conv_length=\"auto\")\n",
    "summary(model, input_size=(1, 24, 256))"
   ]
  },
  {
   "cell_type": "markdown",
   "metadata": {},
   "source": [
    "# Model Training and Evaluation Process\n",
    "\n",
    "This section trains the neural network using the Adamax optimizer, normalizes input data, computes cross-entropy loss, updates model parameters, and tracks accuracy across six epochs.\n",
    "\n",
    "1. **Set Up Optimizer and Learning Rate Scheduler** – The `Adamax` optimizer initializes with a learning rate of 0.002 and weight decay of 0.001 for regularization. An `ExponentialLR` scheduler with a decay factor of 1 keeps the learning rate constant.  \n",
    "\n",
    "2. **Allocate Model to Device** – The model moves to the specified device (CPU, GPU, or MPS for Mac silicon) to optimize computation efficiency.  \n",
    "\n",
    "3. **Normalize Input Data** – The `normalize_data` function standardizes input data by subtracting the mean and dividing by the standard deviation along the time dimension before transferring it to the appropriate device.  \n",
    "\n",
    "4. **Evaluates Classification Accuracy Over Six Epochs** – The training loop iterates through data batches with the model in training mode. It normalizes inputs, computes predictions, calculates cross-entropy loss, performs backpropagation, updates model parameters, and steps the learning rate scheduler. It tracks correct predictions to compute accuracy.  \n",
    "\n",
    "5. **Evaluate on Test Data** – After each epoch, the model runs in evaluation mode on the test set. It computes predictions on normalized data and calculates test accuracy by comparing outputs with actual labels.  "
   ]
  },
  {
   "cell_type": "code",
   "execution_count": 31,
   "metadata": {},
   "outputs": [
    {
     "name": "stdout",
     "output_type": "stream",
     "text": [
      "Epoch 0, Train accuracy: 0.52, Test accuracy: 0.50\n",
      "Epoch 1, Train accuracy: 0.82, Test accuracy: 0.50\n",
      "Epoch 2, Train accuracy: 0.91, Test accuracy: 0.64\n",
      "Epoch 3, Train accuracy: 0.93, Test accuracy: 0.64\n",
      "Epoch 4, Train accuracy: 0.88, Test accuracy: 0.64\n",
      "Epoch 5, Train accuracy: 0.96, Test accuracy: 0.71\n"
     ]
    }
   ],
   "source": [
    "optimizer = torch.optim.Adamax(model.parameters(), lr=0.002, weight_decay=0.001)\n",
    "scheduler = torch.optim.lr_scheduler.ExponentialLR(optimizer, gamma=1)\n",
    "\n",
    "device = torch.device(\n",
    "    \"cuda\"\n",
    "    if torch.cuda.is_available()\n",
    "    else \"mps\"\n",
    "    if torch.backends.mps.is_available()\n",
    "    else \"cpu\"\n",
    ")\n",
    "model = model.to(device=device)  # move the model parameters to CPU/GPU\n",
    "epochs = 6\n",
    "\n",
    "\n",
    "def normalize_data(x):\n",
    "    mean = x.mean(dim=2, keepdim=True)\n",
    "    std = x.std(dim=2, keepdim=True) + 1e-7  # add small epsilon for numerical stability\n",
    "    x = (x - mean) / std\n",
    "    x = x.to(device=device, dtype=torch.float32)  # move to device, e.g. GPU\n",
    "    return x\n",
    "\n",
    "\n",
    "for e in range(epochs):\n",
    "    # training\n",
    "    correct_train = 0\n",
    "    for t, (x, y) in enumerate(train_loader):\n",
    "        model.train()  # put model to training mode\n",
    "        scores = model(normalize_data(x))\n",
    "        y = y.to(device=device, dtype=torch.long)\n",
    "        _, preds = scores.max(1)\n",
    "        correct_train += (preds == y).sum() / len(dataset_train)\n",
    "\n",
    "        loss = F.cross_entropy(scores, y)\n",
    "        optimizer.zero_grad()\n",
    "        loss.backward()\n",
    "        optimizer.step()\n",
    "        scheduler.step()\n",
    "\n",
    "    # Validation\n",
    "    correct_test = 0\n",
    "    for t, (x, y) in enumerate(test_loader):\n",
    "        model.eval()  # put model to testing mode\n",
    "        scores = model(normalize_data(x))\n",
    "        y = y.to(device=device, dtype=torch.long)\n",
    "        _, preds = scores.max(1)\n",
    "        correct_test += (preds == y).sum() / len(dataset_test)\n",
    "\n",
    "    # Reporting\n",
    "    print(\n",
    "        f\"Epoch {e}, Train accuracy: {correct_train:.2f}, Test accuracy: {correct_test:.2f}\"\n",
    "    )"
   ]
  }
 ],
 "metadata": {
  "kernelspec": {
   "display_name": ".venv",
   "language": "python",
   "name": "python3"
  },
  "language_info": {
   "codemirror_mode": {
    "name": "ipython",
    "version": 3
   },
   "file_extension": ".py",
   "mimetype": "text/x-python",
   "name": "python",
   "nbconvert_exporter": "python",
   "pygments_lexer": "ipython3",
   "version": "3.11.0"
  }
 },
 "nbformat": 4,
 "nbformat_minor": 2
}
